{
  "cells": [
    {
      "cell_type": "raw",
      "metadata": {
        "vscode": {
          "languageId": "raw"
        }
      },
      "source": [
        "# Welcome to Maths.pm JupyterLite\n",
        "\n",
        "This is a sample notebook running in JupyterLite - a full Python environment in your browser!\n"
      ]
    },
    {
      "cell_type": "code",
      "execution_count": null,
      "metadata": {},
      "outputs": [],
      "source": [
        "# Let's do some basic math\n",
        "import math\n",
        "\n",
        "print(\"Hello from JupyterLite!\")\n",
        "print(f\"π = {math.pi}\")\n",
        "print(f\"e = {math.e}\")\n",
        "\n",
        "# Create a simple plot\n",
        "import matplotlib.pyplot as plt\n",
        "import numpy as np\n",
        "\n",
        "x = np.linspace(0, 2*np.pi, 100)\n",
        "y = np.sin(x)\n",
        "\n",
        "plt.figure(figsize=(10, 6))\n",
        "plt.plot(x, y, 'b-', linewidth=2, label='sin(x)')\n",
        "plt.xlabel('x')\n",
        "plt.ylabel('sin(x)')\n",
        "plt.title('Sine Function')\n",
        "plt.grid(True, alpha=0.3)\n",
        "plt.legend()\n",
        "plt.show()\n"
      ]
    },
    {
      "cell_type": "code",
      "execution_count": null,
      "metadata": {},
      "outputs": [],
      "source": [
        "# Let's use SymPy for symbolic math\n",
        "import sympy as sp\n",
        "\n",
        "# Define a symbol\n",
        "x = sp.Symbol('x')\n",
        "\n",
        "# Define a function\n",
        "f = x**3 - 2*x**2 + x - 1\n",
        "\n",
        "print(f\"Function: f(x) = {f}\")\n",
        "print(f\"Derivative: f'(x) = {sp.diff(f, x)}\")\n",
        "print(f\"Integral: ∫f(x)dx = {sp.integrate(f, x)}\")\n",
        "\n",
        "# Solve equation\n",
        "equation = sp.Eq(f, 0)\n",
        "solutions = sp.solve(equation, x)\n",
        "print(f\"Solutions to f(x) = 0: {solutions}\")\n"
      ]
    }
  ],
  "metadata": {
    "language_info": {
      "name": "python"
    }
  },
  "nbformat": 4,
  "nbformat_minor": 2
}
