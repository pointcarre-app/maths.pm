{
 "cells": [
  {
   "cell_type": "markdown",
   "id": "eb90550b-0e00-465a-8d9f-b7af3d6c3a01",
   "metadata": {},
   "source": [
    "# p5 notebook\n",
    "\n",
    "First let's define a couple of variables:\n"
   ]
  },
  {
   "cell_type": "code",
   "execution_count": null,
   "id": "fac4073f-839d-4020-91fb-caf9d78e7828",
   "metadata": {
    "trusted": true
   },
   "outputs": [],
   "source": [
    "var n = 4;\n",
    "var speed = 1;"
   ]
  },
  {
   "cell_type": "markdown",
   "id": "e7fa6114-985a-436e-bb50-0df0bbae3176",
   "metadata": {},
   "source": [
    "## The `setup` function\n",
    "\n",
    "The usual p5 setup function, which creates the canvas."
   ]
  },
  {
   "cell_type": "code",
   "execution_count": null,
   "id": "fed87e04-e931-4ae0-bf18-a75887fd70e2",
   "metadata": {
    "trusted": true
   },
   "outputs": [],
   "source": [
    "function setup () {\n",
    "  createCanvas(innerWidth, innerHeight);\n",
    "  rectMode(CENTER);\n",
    "}"
   ]
  },
  {
   "cell_type": "markdown",
   "id": "592462f9-b7c4-486a-8cc0-17ecddad089a",
   "metadata": {},
   "source": [
    "\n",
    "## The `draw` function\n",
    "\n",
    "From the [p5.js documentation](https://p5js.org/reference/#/p5/draw):\n",
    "\n",
    "> The `draw()` function continuously executes the lines of code contained inside its block until the program is stopped or `noLoop()` is called.\n"
   ]
  },
  {
   "cell_type": "code",
   "execution_count": null,
   "id": "9de2a9b2-80a6-4398-a007-f97773e865d5",
   "metadata": {
    "trusted": true
   },
   "outputs": [],
   "source": [
    "function draw() {\n",
    "  background('#ddd');\n",
    "  translate(innerWidth / 2, innerHeight / 2);\n",
    "  for (let i = 0; i < n; i++) {\n",
    "    push();\n",
    "    rotate(frameCount * speed / 1000 * (i + 1));\n",
    "    fill(i * 5, i * 100, i * 150);\n",
    "    const s = 200 - i * 10;\n",
    "    rect(0, 0, s, s);\n",
    "    pop();\n",
    "  }\n",
    "}"
   ]
  },
  {
   "cell_type": "markdown",
   "id": "c357503b-6a02-4bd1-8049-42a6720ae27f",
   "metadata": {},
   "source": [
    "## Show the sketch\n",
    "Now let's show the sketch by using the `%show` magic:"
   ]
  },
  {
   "cell_type": "code",
   "execution_count": null,
   "id": "dfd99658-d363-4f46-bcab-16508f6346ab",
   "metadata": {
    "trusted": true
   },
   "outputs": [],
   "source": [
    "%show"
   ]
  },
  {
   "cell_type": "markdown",
   "id": "98c99ef9-e70e-4456-9d6c-06d3a4dca51a",
   "metadata": {},
   "source": [
    "\n",
    "## Tweak the values\n",
    "\n",
    "We can also tweak some values in real time:"
   ]
  },
  {
   "cell_type": "code",
   "execution_count": null,
   "id": "904e9b10-4725-4cb9-9ad5-d82d0ea21dae",
   "metadata": {
    "trusted": true
   },
   "outputs": [],
   "source": [
    "speed = 3\n",
    "n = 20"
   ]
  },
  {
   "cell_type": "code",
   "execution_count": null,
   "id": "5c435fbd-1997-4bcf-bec3-cfe236881e53",
   "metadata": {
    "trusted": true
   },
   "outputs": [],
   "source": [
    "%show"
   ]
  },
  {
   "cell_type": "code",
   "execution_count": null,
   "id": "31fa83ea-b0e8-4b28-933e-4f80aab0b9d3",
   "metadata": {
    "trusted": true
   },
   "outputs": [],
   "source": []
  }
 ],
 "metadata": {
  "kernelspec": {
   "display_name": "env",
   "language": "python",
   "name": "python3"
  },
  "language_info": {
   "codemirror_mode": {
    "name": "javascript"
   },
   "file_extension": ".js",
   "mimetype": "text/javascript",
   "name": "python",
   "nbconvert_exporter": "javascript",
   "pygments_lexer": "javascript",
   "version": "3.13.5"
  }
 },
 "nbformat": 4,
 "nbformat_minor": 5
}
