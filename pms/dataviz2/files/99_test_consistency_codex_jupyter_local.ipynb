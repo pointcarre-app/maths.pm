{
 "cells": [
  {
   "cell_type": "markdown",
   "id": "80f06285-dd89-4ecc-8c36-a058a8f2f799",
   "metadata": {},
   "source": [
    "# Check consistency\n",
    "\n",
    "\n",
    "\n",
    "## Installing Python and the necessary libraries (`matplotlib` and `bokeh`).\n",
    "\n",
    "\n",
    "Refer to [the Python installation documentation](https://maths.pm/pm/dataviz2/01_installing_python.md)\n",
    "\n",
    "## Goal\n",
    "\n",
    "This file enables the execution of some examples extracted from `pm/dataviz2/99_sandbox.md` to ensure :\n",
    "- the same code run \n",
    "- and give the sames outputs\n",
    "\n",
    "While using those runtime scenarios : \n",
    "- the `pm-codex` system\n",
    "- a local instance of Jupyter \n",
    "- a typical `python3 <filename.py>` execution"
   ]
  },
  {
   "cell_type": "markdown",
   "id": "dd6c3bca-c883-4c1f-a4b7-baa0ec0d68e6",
   "metadata": {},
   "source": [
    "## Python version\n",
    "\n",
    "\n",
    "**Executing**\n",
    "\n",
    "```python\n",
    "import sys\n",
    "print(sys.version_info)\n",
    "``` \n",
    "\n",
    "**Should display**\n",
    "```bash\n",
    "sys.version_info(major=3, minor=13, micro=5, releaselevel='final', serial=0)\n",
    "\n",
    "```\n",
    "\n",
    "**See code below**"
   ]
  },
  {
   "cell_type": "code",
   "execution_count": 11,
   "id": "3135d79e-d95f-4eae-9612-58a71454ebe1",
   "metadata": {},
   "outputs": [
    {
     "name": "stdout",
     "output_type": "stream",
     "text": [
      "sys.version_info(major=3, minor=13, micro=5, releaselevel='final', serial=0)\n"
     ]
    }
   ],
   "source": [
    "import sys\n",
    "print(sys.version_info)"
   ]
  },
  {
   "cell_type": "markdown",
   "id": "2f3a54de-49e6-4734-af2e-9f8cadda0a2b",
   "metadata": {},
   "source": [
    "## Note"
   ]
  },
  {
   "cell_type": "code",
   "execution_count": 2,
   "id": "8a1d4986-03a9-4bfa-8115-4f6a1c72d312",
   "metadata": {},
   "outputs": [
    {
     "ename": "SyntaxError",
     "evalue": "invalid syntax (510266956.py, line 1)",
     "output_type": "error",
     "traceback": [
      "  \u001b[36mCell\u001b[39m\u001b[36m \u001b[39m\u001b[32mIn[2]\u001b[39m\u001b[32m, line 1\u001b[39m\n\u001b[31m    \u001b[39m\u001b[31m`python -m ipykernel install --user --name=env --display-name=\"mathspm-dev-env\"`\u001b[39m\n    ^\n\u001b[31mSyntaxError\u001b[39m\u001b[31m:\u001b[39m invalid syntax\n"
     ]
    }
   ],
   "source": []
  },
  {
   "cell_type": "code",
   "execution_count": null,
   "id": "c3b96bbc-442d-46e9-8086-2f2e3e85497a",
   "metadata": {},
   "outputs": [],
   "source": []
  },
  {
   "cell_type": "code",
   "execution_count": null,
   "id": "03c2cd07-eae9-4745-82e6-ff6aaffdfc06",
   "metadata": {},
   "outputs": [],
   "source": []
  },
  {
   "cell_type": "code",
   "execution_count": null,
   "id": "8663b455-77ca-4e6c-9f17-521f21a832a9",
   "metadata": {},
   "outputs": [],
   "source": []
  },
  {
   "cell_type": "markdown",
   "id": "49779268-b102-4df4-a5c6-948ff6cf619b",
   "metadata": {},
   "source": [
    "## Versions"
   ]
  },
  {
   "cell_type": "code",
   "execution_count": 3,
   "id": "76998382-fcc5-45bd-9c3e-540fccbb2bf1",
   "metadata": {},
   "outputs": [
    {
     "name": "stdout",
     "output_type": "stream",
     "text": [
      "matplotlib: 3.10.5\n",
      "bokeh: 3.8.0\n",
      "numpy: 2.3.2\n",
      "pandas: 2.3.2\n",
      "numpy: 2.3.2\n",
      "pyparsing: 3.2.3\n",
      "cycler: 0.12.1\n",
      "python: 3.13.5\n"
     ]
    }
   ],
   "source": [
    "import matplotlib\n",
    "import bokeh\n",
    "import numpy as np\n",
    "import pandas as pd\n",
    "\n",
    "print(f\"matplotlib: {matplotlib.__version__}\")\n",
    "print(f\"bokeh: {bokeh.__version__}\")\n",
    "print(f\"numpy: {np.__version__}\")\n",
    "print(f\"pandas: {pd.__version__}\")\n",
    "\n",
    "# For all matplotlib dependencies\n",
    "import matplotlib\n",
    "for dep in ['numpy', 'python-dateutil', 'pyparsing', 'cycler']:\n",
    "    try:\n",
    "        mod = __import__(dep.replace('-', '_'))\n",
    "        print(f\"{dep}: {mod.__version__}\")\n",
    "    except:\n",
    "        pass\n",
    "\n",
    "# For bokeh dependencies  \n",
    "import sys\n",
    "print(f\"python: {sys.version.split()[0]}\")"
   ]
  },
  {
   "cell_type": "code",
   "execution_count": null,
   "id": "b90df099-e739-409d-8fcb-1ccb62f020cd",
   "metadata": {},
   "outputs": [],
   "source": []
  },
  {
   "cell_type": "code",
   "execution_count": null,
   "id": "c11b2427-49d3-4cfe-8885-57f58008d020",
   "metadata": {},
   "outputs": [],
   "source": []
  },
  {
   "cell_type": "markdown",
   "id": "c8b908ca-ee98-4954-baad-14be772ae6b6",
   "metadata": {},
   "source": [
    "## `dataviz2/99_sandbox.md` "
   ]
  },
  {
   "cell_type": "code",
   "execution_count": null,
   "id": "3cea6c98-decf-4ff3-a1bd-0822abe402bf",
   "metadata": {},
   "outputs": [],
   "source": [
    "### Data Visualization with Pandas"
   ]
  }
 ],
 "metadata": {
  "kernelspec": {
   "display_name": "mathspm-dev-env",
   "language": "python",
   "name": "env"
  },
  "language_info": {
   "codemirror_mode": {
    "name": "ipython",
    "version": 3
   },
   "file_extension": ".py",
   "mimetype": "text/x-python",
   "name": "python",
   "nbconvert_exporter": "python",
   "pygments_lexer": "ipython3",
   "version": "3.13.5"
  }
 },
 "nbformat": 4,
 "nbformat_minor": 5
}
