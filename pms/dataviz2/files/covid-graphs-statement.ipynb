{
 "cells": [
  {
   "cell_type": "code",
   "execution_count": 12,
   "id": "dbb958ce-abf0-49d8-97b7-324124c97517",
   "metadata": {},
   "outputs": [],
   "source": [
    "import pandas as pd\n",
    "import numpy as np\n",
    "import matplotlib.pyplot as plt\n",
    "from bokeh.plotting import figure, show, output_notebook\n",
    "from bokeh.models import ColumnDataSource, HoverTool, Select, RangeSlider, LinearAxis, Div, Span, CustomJS, RadioButtonGroup, Label, CheckboxGroup\n",
    "from bokeh.layouts import column, row\n",
    "from datetime import  datetime\n",
    "\n",
    "import statsmodels\n",
    "\n",
    "from bokeh.plotting import figure, show\n",
    "from bokeh.io import output_notebook\n",
    "\n",
    "import matplotlib.dates as mdates"
   ]
  },
  {
   "cell_type": "markdown",
   "id": "98e3709c-e9c5-4006-80b1-f932ccd9cefe",
   "metadata": {},
   "source": [
    "# Part I.1: Data Exploration and Basic Plots\n",
    "\n",
    "## Context and Motivation\n",
    "Before diving into complex analysis, we need to understand our data structure and create baseline visualizations. The COVID-19 dataset contains daily state-level observations, but national-level trends will help us identify overall patterns and the impact of the presidential transition on January 20, 2021.\n",
    "\n",
    "---\n",
    "\n",
    "## Exercise 1.1: Loading and Examining Data Structure\n",
    "\n",
    "**Task:** Load the COVID dataset and explore its basic properties.\n",
    "\n",
    "The dataset can downloaded [here](https://raw.githubusercontent.com/nytimes/covid-19-data/refs/heads/master/us-states.csv)\n",
    "\n",
    "### Questions:\n",
    "1. What is the date range of our dataset?\n",
    "2. How many states are included?\n",
    "3. Are those daily deaths ?\n",
    "4. Are there any missing values or data quality issues?"
   ]
  },
  {
   "cell_type": "code",
   "execution_count": 21,
   "id": "aa1f9a14",
   "metadata": {},
   "outputs": [
    {
     "data": {
      "text/plain": [
       "Ellipsis"
      ]
     },
     "execution_count": 21,
     "metadata": {},
     "output_type": "execute_result"
    }
   ],
   "source": [
    "df = pd.read_csv(\"us-states.csv\", parse_dates=[\"date\"])\n",
    "\n",
    "# Examine structure\n",
    "...\n",
    "\n",
    "# Convert date column to datetime\n",
    "df['date'] = pd.to_datetime(df['date'])\n",
    "\n",
    "# Basic data exploration\n",
    "...\n",
    "\n",
    "# Basic statistics\n",
    "...\n",
    "\n",
    "# Check for missing values\n",
    "..."
   ]
  },
  {
   "cell_type": "markdown",
   "id": "8d061fce",
   "metadata": {},
   "source": [
    "## Exercise 1.2: Calculate National Metrics\n",
    "\n",
    "**Task:** Aggregate state data to national level and calculate derived metrics:\n",
    "- daily deaths / cases\n",
    "- moving 7 days average of daily deaths\n",
    "\n",
    "### Questions:\n",
    "1. How do you properly calculate daily death counts from cumulative data?\n",
    "2. Why do we need 7-day moving averages?\n",
    "3. What patterns do you observe in the raw daily data?"
   ]
  },
  {
   "cell_type": "code",
   "execution_count": 22,
   "id": "0e03f30e",
   "metadata": {},
   "outputs": [
    {
     "data": {
      "text/plain": [
       "Ellipsis"
      ]
     },
     "execution_count": 22,
     "metadata": {},
     "output_type": "execute_result"
    }
   ],
   "source": [
    "# Create national daily aggregates\n",
    "national_data = df.groupby('date').agg({\n",
    "    'cases': 'sum',\n",
    "    'deaths': 'sum'\n",
    "}).reset_index().sort_values('date')\n",
    "\n",
    "###########################\n",
    "# !!!!!!!!!!!!!!!!!!!!!!!!! DATA IS CUMULATIVE\n",
    "###########################\n",
    "\n",
    "# Data is cumulative, calculate daily differences\n",
    "...\n",
    "\n",
    "# Calculate 7-day moving averages\n",
    "..."
   ]
  },
  {
   "cell_type": "markdown",
   "id": "089c435f",
   "metadata": {},
   "source": [
    "## Exercise 1.3: Raw comparison\n",
    "**Task:** Recreate the chart from The Economist/Reuters analysis but **showing cumulative deaths** with presidential periods highlighted."
   ]
  },
  {
   "cell_type": "code",
   "execution_count": 25,
   "id": "1dc00639",
   "metadata": {
    "editable": true,
    "slideshow": {
     "slide_type": ""
    },
    "tags": []
   },
   "outputs": [
    {
     "data": {
      "text/plain": [
       "Ellipsis"
      ]
     },
     "execution_count": 25,
     "metadata": {},
     "output_type": "execute_result"
    },
    {
     "data": {
      "image/png": "[encoded data removed]",
      "text/plain": [
       "<Figure size 1400x800 with 1 Axes>"
      ]
     },
     "metadata": {},
     "output_type": "display_data"
    }
   ],
   "source": [
    "# Calculate cumulative deaths for the chart\n",
    "national_data_sorted = ...\n",
    "#national_data_sorted['cumulative_deaths'] = ...\n",
    "\n",
    "# Define key periods\n",
    "trump_start = datetime(2020, 3, 1)  # Pandemic start\n",
    "transition_date = datetime(2021, 1, 20)\n",
    "biden_analysis_end = datetime(2022, 5, 11)  # End date from analysis\n",
    "\n",
    "# Filter data for the analysis period\n",
    "chart_data = ...\n",
    "\n",
    "fig, ax = plt.subplots(figsize=(14, 8))\n",
    "\n",
    "# Define colors for presidential periods\n",
    "trump_color = '#E74C3C'  # Red\n",
    "biden_color = '#3498DB'  # Blue\n",
    "\n",
    "# Plot cumulative deaths with period-specific colors\n",
    "trump_data = ...\n",
    "biden_data = ...\n",
    "\n",
    "# Graph\n",
    "...\n",
    "\n",
    "\n",
    "# Styling \n",
    "...\n",
    "\n",
    "#plt.tight_layout()\n",
    "#plt.show()"
   ]
  },
  {
   "cell_type": "markdown",
   "id": "f51845df",
   "metadata": {},
   "source": [
    "# Part I.2: Comparative Visualizations\n",
    "\n",
    "## Exercise 2.1: State-Level Comparisons\n",
    "\n",
    "National aggregates hide important state-level variation. Different states experienced the pandemic at different times and with varying intensity. Understanding these patterns requires comparative visualization techniques and correlation analysis to reveal the relationship between cases and deaths with appropriate time lags.\n",
    "\n",
    "**Task:** Identify and visualize the 5 states with the highest total deaths using small multiples.\n",
    "\n",
    "**Questions:**\n",
    "\n",
    "- Which states were most affected by COVID-19?\n",
    "- Do these states show similar temporal patterns?\n"
   ]
  },
  {
   "cell_type": "code",
   "execution_count": null,
   "id": "3ebf420c-f220-454d-85b7-2a3e8a129be7",
   "metadata": {},
   "outputs": [],
   "source": []
  },
  {
   "cell_type": "markdown",
   "id": "ba0d8ab5",
   "metadata": {},
   "source": [
    "### Advantages of single graph:\n",
    "\n",
    "- Direct comparison of magnitudes\n",
    "- Direct comparison of magnitudes\n",
    "- Easy to see which state had highest peaks\n",
    "- Temporal alignment visible at a glance\n",
    "- More compact presentation\n",
    "\n",
    "### When to use small multiples instead:\n",
    "\n",
    "- More than 4 lines (readability)\n",
    "- Different scales needed per entity\n",
    "- Focus on individual patterns rather than comparison\n",
    "- Want to show more detail per entity\n",
    "  \n",
    "## Exercise 2.2: Cases vs Deaths Scatter Analysis\n",
    "\n",
    "**Task:** Create a scatter plot to analyze the relationship between total cases and deaths across all states.\n",
    "\n",
    "### Questions:\n",
    "1. Is there a linear relationship between cases and deaths?\n",
    "2. Which states are outliers (better or worse than expected)?\n",
    "3. What might explain variation in case fatality rates?\n",
    "4. How can we identify these patterns visually?"
   ]
  },
  {
   "cell_type": "markdown",
   "id": "484cb69d-480c-45e4-8916-dfd8013f020b",
   "metadata": {},
   "source": []
  },
  {
   "cell_type": "code",
   "execution_count": null,
   "id": "c306bf84",
   "metadata": {},
   "outputs": [],
   "source": []
  },
  {
   "cell_type": "markdown",
   "id": "502c88a4-2f87-473c-b9c4-38855107b3c2",
   "metadata": {},
   "source": [
    "# Part I.3: Statistical Analysis \n",
    "\n",
    "\n",
    "## Exercise 3.1: Death Rate Distributions by Administration\n",
    "\n",
    "**Task:** Compare the distribution of daily death rates between Trump and Biden administrations using statistical visualizations.\n",
    "\n",
    "### Questions:\n",
    "1. What is the typical (median) daily death rate in each period?\n",
    "2. How variable are death rates within each administration?\n",
    "3. Are the distributions significantly different?"
   ]
  },
  {
   "cell_type": "code",
   "execution_count": null,
   "id": "dcc41459-cd35-4323-a557-6615d0a20b74",
   "metadata": {
    "scrolled": true
   },
   "outputs": [],
   "source": []
  },
  {
   "cell_type": "markdown",
   "id": "85b76d5d-4650-47d9-9b1d-63f64ffa87a1",
   "metadata": {},
   "source": [
    "## Exercise 3.2: Building the Interactive Data Explorer \n",
    "\n",
    "**Task:** Create an interactive dashboard for exploring COVID-19 data by state and time period.\n",
    "\n",
    "### Objectives:\n",
    "1. **State selector**: Dropdown to choose any state or \"National\"\n",
    "2. **Date range slider**: Select time period to analyze\n",
    "5. **Interactive tools**: Hover tooltips, zoom, pan, reset\n",
    "\n",
    "Proceed step by step ! Otherwise you will drown..."
   ]
  },
  {
   "cell_type": "code",
   "execution_count": null,
   "id": "bb062ab7-0085-4c7c-a030-2a8f81f9433a",
   "metadata": {},
   "outputs": [],
   "source": []
  },
  {
   "cell_type": "markdown",
   "id": "cdf9cf72-70f7-4b3f-9c2b-d120975340f7",
   "metadata": {},
   "source": []
  },
  {
   "cell_type": "markdown",
   "id": "2ee9351c-55f9-41ae-b959-f33e45db5c4b",
   "metadata": {},
   "source": [
    "# Part III: Presidential Analysis Dashboard\n",
    "\n",
    "Parts I and II showed that raw statistics appear similar between administrations, but contexts were dramatically different. This section teaches sophisticated decomposition methods to adjust for confounding factors: vaccine availability, variant severity, seasonal patterns, and inherited conditions. Students will build an interactive dashboard that reveals whether performance differences persist after contextual adjustment.\n"
   ]
  },
  {
   "cell_type": "markdown",
   "id": "b07ddafa-adde-48aa-96b1-a71150a95653",
   "metadata": {},
   "source": [
    "\n",
    "## Part III.2: Trend Decomposition Engine\n",
    "\n",
    "**Task:** Decompose the death rate time series into trend, seasonal, and residual components to isolate administration performance.\n",
    "\n",
    "Use `from statsmodels.tsa.seasonal import STL`\n",
    "\n",
    "What systematic patterns should we remove before comparing?"
   ]
  },
  {
   "cell_type": "code",
   "execution_count": null,
   "id": "d2300d54-2497-4a09-8240-5cae4e3fd7c1",
   "metadata": {},
   "outputs": [],
   "source": []
  },
  {
   "cell_type": "markdown",
   "id": "bc72de5c-3475-4453-9036-2581e1f330da",
   "metadata": {},
   "source": [
    "## Optional : Time-Lagged Correlation Analysis\n",
    "\n",
    "**Task:** Analyze the relationship between cases and deaths with time lags to understand the delay between infection and mortality.\n",
    "\n",
    "### Questions:\n",
    "1. What is the typical lag between case surges and death surges?\n",
    "2. How do we calculate correlation with time shifts?\n",
    "3. Did this lag change over time (better treatments, vaccines)?\n",
    "4. What does the correlation function tell us about pandemic dynamics?\n"
   ]
  },
  {
   "cell_type": "code",
   "execution_count": null,
   "id": "c3239378-7819-4c1b-96c0-1e0e0ce8dd90",
   "metadata": {
    "editable": true,
    "slideshow": {
     "slide_type": ""
    },
    "tags": []
   },
   "outputs": [],
   "source": []
  },
  {
   "cell_type": "markdown",
   "id": "320fd830-df45-4123-9417-f92f0099ec14",
   "metadata": {},
   "source": [
    "# Challenge\n",
    "\n",
    "Make the graph above with bokeh so that the reader can visually estimate which lag seems better to them. The lag should be dynamic, set by a slider."
   ]
  }
 ],
 "metadata": {
  "kernelspec": {
   "display_name": "Python 3 (ipykernel)",
   "language": "python",
   "name": "python3"
  },
  "language_info": {
   "codemirror_mode": {
    "name": "ipython",
    "version": 3
   },
   "file_extension": ".py",
   "mimetype": "text/x-python",
   "name": "python",
   "nbconvert_exporter": "python",
   "pygments_lexer": "ipython3",
   "version": "3.13.5"
  }
 },
 "nbformat": 4,
 "nbformat_minor": 5
}
