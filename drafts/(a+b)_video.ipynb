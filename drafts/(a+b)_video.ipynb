{
 "cells": [
  {
   "cell_type": "markdown",
   "id": "4c0d95dc-7146-4fe2-87f4-b7a34a2ad02b",
   "metadata": {},
   "source": [
    "<br>\n",
    "<br>\n",
    "<br>\n",
    "<div style=\"width:300px;margin:auto;border:1px solid #4E4F4E;padding-top:14px;padding-bottom:14px;\">\n",
    "    $$\\begin{align}\n",
    "    (a+b)^2 &= (a+b)(a+b) \\\\\n",
    "    &= a^2 + ab + ba + b^2 \\\\\n",
    "    &= a^2 + 2ab + b^2\n",
    "    \\end{align}$$\n",
    "</div>\n",
    "<br>\n",
    "<br>\n",
    "<br>"
   ]
  },
  {
   "cell_type": "markdown",
   "id": "3e87ed1a-b136-48c8-97ad-88b0d2a056b6",
   "metadata": {},
   "source": [
    "<br>\n",
    "<br>\n",
    "<br>\n",
    "<div style=\"width:300px;margin:auto;border:1px solid #4E4F4E;padding-top:14px;padding-bottom:14px;\">\n",
    "    $$\\begin{align}\n",
    "    V_{moy} = \\dfrac{2DE}{\\dfrac{DE}{20}+\\dfrac{DE}{60}} \\\\\n",
    "    \\end{align}$$\n",
    "</div>\n",
    "<br>\n",
    "<br>\n",
    "<br>"
   ]
  },
  {
   "cell_type": "code",
   "execution_count": null,
   "id": "86c4c826-2847-43b5-ad23-93c08d473b9a",
   "metadata": {},
   "outputs": [],
   "source": []
  }
 ],
 "metadata": {
  "kernelspec": {
   "display_name": "Python 3 (ipykernel)",
   "language": "python",
   "name": "python3"
  },
  "language_info": {
   "codemirror_mode": {
    "name": "ipython",
    "version": 3
   },
   "file_extension": ".py",
   "mimetype": "text/x-python",
   "name": "python",
   "nbconvert_exporter": "python",
   "pygments_lexer": "ipython3",
   "version": "3.12.3"
  }
 },
 "nbformat": 4,
 "nbformat_minor": 5
}
